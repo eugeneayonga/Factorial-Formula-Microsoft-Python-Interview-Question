{
 "cells": [
  {
   "cell_type": "code",
   "execution_count": 23,
   "metadata": {},
   "outputs": [
    {
     "name": "stdout",
     "output_type": "stream",
     "text": [
      "The factorial of 5 is : 120\n"
     ]
    }
   ],
   "source": [
    "\"\"\"Factorial Formula\n",
    "\n",
    "Given a number n, write a formula that returns n! (n factorial).\n",
    "\n",
    "Incase you don't know what a factorial is, n! = n * (n - 1) * (n - 2) * ... 2 * 1.\n",
    "\n",
    "For example: 5! = 5 * 4 * 3 * 2 * 1 = 120 so we'd return 120.\n",
    "\n",
    "#Assume that n is a non-negative integer.\n",
    "\n",
    "\"\"\"\n",
    "\n",
    "# SOLUTION\n",
    "\n",
    "# Step 1: Import factorial function from the math module\n",
    "from math import factorial\n",
    "\n",
    "# Step 2: Define a function that takes in a number and returns the factorial of that number\n",
    "def factorial(n):\n",
    "    if n == 0:\n",
    "        return 1\n",
    "    elif n == 1:\n",
    "        return 1\n",
    "    else:\n",
    "        return n * factorial(n - 1)\n",
    "    \n",
    "# Step 3: Print the factorial from user input\n",
    "n = int(input(\"Enter an integer: \"))\n",
    "print(\"The factorial of {} is : {}\".format(n, factorial(n)))"
   ]
  }
 ],
 "metadata": {
  "kernelspec": {
   "display_name": "Python 3",
   "language": "python",
   "name": "python3"
  },
  "language_info": {
   "codemirror_mode": {
    "name": "ipython",
    "version": 3
   },
   "file_extension": ".py",
   "mimetype": "text/x-python",
   "name": "python",
   "nbconvert_exporter": "python",
   "pygments_lexer": "ipython3",
   "version": "3.9.6"
  }
 },
 "nbformat": 4,
 "nbformat_minor": 2
}
